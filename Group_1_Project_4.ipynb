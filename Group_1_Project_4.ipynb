{
  "cells": [
    {
      "cell_type": "code",
      "execution_count": 4,
      "metadata": {
        "id": "7l9Iqg8kPJuu"
      },
      "outputs": [],
      "source": [
        "# Import dependencies\n",
        "from sklearn.model_selection import train_test_split\n",
        "from sklearn.preprocessing import StandardScaler\n",
        "import pandas as pd\n",
        "import tensorflow as tf\n",
        "import matplotlib.pyplot as plt\n",
        "import numpy as np"
      ]
    },
    {
      "cell_type": "code",
      "execution_count": 5,
      "metadata": {
        "id": "OjbMRjX_PQ3a"
      },
      "outputs": [
        {
          "data": {
            "text/html": [
              "<div>\n",
              "<style scoped>\n",
              "    .dataframe tbody tr th:only-of-type {\n",
              "        vertical-align: middle;\n",
              "    }\n",
              "\n",
              "    .dataframe tbody tr th {\n",
              "        vertical-align: top;\n",
              "    }\n",
              "\n",
              "    .dataframe thead th {\n",
              "        text-align: right;\n",
              "    }\n",
              "</style>\n",
              "<table border=\"1\" class=\"dataframe\">\n",
              "  <thead>\n",
              "    <tr style=\"text-align: right;\">\n",
              "      <th></th>\n",
              "      <th>workouttime</th>\n",
              "      <th>readingtime</th>\n",
              "      <th>phonetime</th>\n",
              "      <th>workhours</th>\n",
              "      <th>caffeineintake</th>\n",
              "      <th>relaxationtime</th>\n",
              "      <th>sleeptime</th>\n",
              "    </tr>\n",
              "  </thead>\n",
              "  <tbody>\n",
              "    <tr>\n",
              "      <th>0</th>\n",
              "      <td>1.12</td>\n",
              "      <td>0.52</td>\n",
              "      <td>3.29</td>\n",
              "      <td>7.89</td>\n",
              "      <td>216.08</td>\n",
              "      <td>0.75</td>\n",
              "      <td>3.45</td>\n",
              "    </tr>\n",
              "    <tr>\n",
              "      <th>1</th>\n",
              "      <td>2.85</td>\n",
              "      <td>0.49</td>\n",
              "      <td>4.22</td>\n",
              "      <td>5.03</td>\n",
              "      <td>206.18</td>\n",
              "      <td>0.67</td>\n",
              "      <td>4.88</td>\n",
              "    </tr>\n",
              "    <tr>\n",
              "      <th>2</th>\n",
              "      <td>2.20</td>\n",
              "      <td>1.81</td>\n",
              "      <td>4.04</td>\n",
              "      <td>9.23</td>\n",
              "      <td>28.73</td>\n",
              "      <td>0.35</td>\n",
              "      <td>3.61</td>\n",
              "    </tr>\n",
              "    <tr>\n",
              "      <th>3</th>\n",
              "      <td>1.80</td>\n",
              "      <td>0.50</td>\n",
              "      <td>1.62</td>\n",
              "      <td>7.68</td>\n",
              "      <td>276.77</td>\n",
              "      <td>1.21</td>\n",
              "      <td>4.94</td>\n",
              "    </tr>\n",
              "    <tr>\n",
              "      <th>4</th>\n",
              "      <td>0.47</td>\n",
              "      <td>0.54</td>\n",
              "      <td>1.60</td>\n",
              "      <td>4.94</td>\n",
              "      <td>170.54</td>\n",
              "      <td>0.95</td>\n",
              "      <td>5.50</td>\n",
              "    </tr>\n",
              "  </tbody>\n",
              "</table>\n",
              "</div>"
            ],
            "text/plain": [
              "   workouttime  readingtime  phonetime  workhours  caffeineintake  \\\n",
              "0         1.12         0.52       3.29       7.89          216.08   \n",
              "1         2.85         0.49       4.22       5.03          206.18   \n",
              "2         2.20         1.81       4.04       9.23           28.73   \n",
              "3         1.80         0.50       1.62       7.68          276.77   \n",
              "4         0.47         0.54       1.60       4.94          170.54   \n",
              "\n",
              "   relaxationtime  sleeptime  \n",
              "0            0.75       3.45  \n",
              "1            0.67       4.88  \n",
              "2            0.35       3.61  \n",
              "3            1.21       4.94  \n",
              "4            0.95       5.50  "
            ]
          },
          "execution_count": 5,
          "metadata": {},
          "output_type": "execute_result"
        }
      ],
      "source": [
        "# Import and read CSV file\n",
        "sleeptime_df = pd.read_csv(\"Data_Preparation/sleepytime_db.csv\")\n",
        "sleeptime_df.head()"
      ]
    },
    {
      "cell_type": "code",
      "execution_count": 18,
      "metadata": {},
      "outputs": [
        {
          "name": "stdout",
          "output_type": "stream",
          "text": [
            "Outliers in column 'sleeptime':\n",
            "      workouttime  readingtime  phonetime  workhours  caffeineintake  \\\n",
            "10           0.06         0.07       1.14       8.82          251.82   \n",
            "35           2.43         0.70       4.95       5.41           29.69   \n",
            "159          2.18         1.50       3.26       9.02          234.99   \n",
            "187          1.67         1.53       3.31       5.78          280.84   \n",
            "212          1.96         0.04       3.18       6.41            4.75   \n",
            "...           ...          ...        ...        ...             ...   \n",
            "1877         1.53         1.76       3.68       6.32          111.67   \n",
            "1891         1.20         1.06       3.34       7.02           25.28   \n",
            "1901         0.02         0.76       3.17       5.33          111.90   \n",
            "1941         1.00         1.80       1.94       7.85           16.17   \n",
            "1989         2.19         1.74       4.29       9.03          244.75   \n",
            "\n",
            "      relaxationtime  sleeptime  \n",
            "10              1.77      15.94  \n",
            "35              0.69       8.71  \n",
            "159             1.67      17.77  \n",
            "187             1.75       0.74  \n",
            "212             0.24      17.87  \n",
            "...              ...        ...  \n",
            "1877            0.85       0.16  \n",
            "1891            0.11      12.98  \n",
            "1901            1.95      17.30  \n",
            "1941            0.26      10.41  \n",
            "1989            1.89       8.41  \n",
            "\n",
            "[64 rows x 7 columns]\n",
            "--------------------------------------------------\n"
          ]
        }
      ],
      "source": [
        "# Assuming you have a DataFrame `sleeptime_df` and the column names match the ones in the picture. \n",
        "columns_to_check = ['workouttime', 'readingtime', 'phonetime', 'workhours', 'caffeineintake', 'relaxationtime', 'sleeptime'] \n",
        "\n",
        "# Loop through each column to calculate outliers\n",
        "for column in columns_to_check: \n",
        "    Q1 = np.percentile(sleeptime_df[column], 25) # First quartile \n",
        "    Q3 = np.percentile(sleeptime_df[column], 75) # Third quartile \n",
        "    IQR = Q3 - Q1 \n",
        "    # Determine outliers \n",
        "    lower_bound = Q1 - 1.5 * IQR \n",
        "    upper_bound = Q3 + 1.5 * IQR \n",
        "    outliers = sleeptime_df[(sleeptime_df[column] < lower_bound) | (sleeptime_df[column] > upper_bound)] \n",
        "    \n",
        "# Print the outliers\n",
        "print(f\"Outliers in column '{column}':\") \n",
        "print(outliers if not outliers.empty else \"No outliers found\") \n",
        "print(\"-\" * 50)"
      ]
    },
    {
      "cell_type": "code",
      "execution_count": 21,
      "metadata": {
        "id": "59WQDkUAT4qH"
      },
      "outputs": [
        {
          "data": {
            "image/png": "[encoded data removed]",
            "text/plain": [
              "<Figure size 800x500 with 1 Axes>"
            ]
          },
          "metadata": {},
          "output_type": "display_data"
        }
      ],
      "source": [
        "# Create Histogram\n",
        "plt.figure(figsize=(8, 5))\n",
        "plt.boxplot(sleeptime_df['sleeptime'], showfliers=True)\n",
        "plt.title('Sleeptime Histogram')\n",
        "plt.show()\n"
      ]
    },
    {
      "cell_type": "code",
      "execution_count": null,
      "metadata": {
        "id": "ayywTweoPRIn"
      },
      "outputs": [],
      "source": [
        "# Separate the data into labels and features"
      ]
    },
    {
      "cell_type": "code",
      "execution_count": null,
      "metadata": {
        "id": "J4uIRYp4PRN8"
      },
      "outputs": [],
      "source": [
        "# Split the data using train_test_split"
      ]
    },
    {
      "cell_type": "code",
      "execution_count": null,
      "metadata": {
        "id": "F_Y8t7ujSmD1"
      },
      "outputs": [],
      "source": [
        "# Create a StandardScaler\n",
        "# Fit StandardScaler\n",
        "# Scale the data"
      ]
    },
    {
      "cell_type": "code",
      "execution_count": null,
      "metadata": {
        "id": "XTY6qonzPRbk"
      },
      "outputs": [],
      "source": [
        "# Train the model\n",
        "# Fit the model"
      ]
    },
    {
      "cell_type": "code",
      "execution_count": null,
      "metadata": {
        "id": "jtKN8qtSPRqR"
      },
      "outputs": [],
      "source": [
        "# Make a prediction"
      ]
    },
    {
      "cell_type": "code",
      "execution_count": null,
      "metadata": {
        "id": "u8NgWhnsS4Tr"
      },
      "outputs": [],
      "source": [
        "# Convert columns output to hourly (optional)"
      ]
    }
  ],
  "metadata": {
    "colab": {
      "provenance": []
    },
    "kernelspec": {
      "display_name": "base",
      "language": "python",
      "name": "python3"
    },
    "language_info": {
      "codemirror_mode": {
        "name": "ipython",
        "version": 3
      },
      "file_extension": ".py",
      "mimetype": "text/x-python",
      "name": "python",
      "nbconvert_exporter": "python",
      "pygments_lexer": "ipython3",
      "version": "3.12.4"
    }
  },
  "nbformat": 4,
  "nbformat_minor": 0
}
