{
  "nbformat": 4,
  "nbformat_minor": 0,
  "metadata": {
    "colab": {
      "provenance": []
    },
    "kernelspec": {
      "name": "python3",
      "display_name": "Python 3"
    },
    "language_info": {
      "name": "python"
    }
  },
  "cells": [
    {
      "cell_type": "code",
      "execution_count": null,
      "metadata": {
        "id": "7l9Iqg8kPJuu"
      },
      "outputs": [],
      "source": [
        "# Import dependencies\n",
        "from sklearn.model_selection import train_test_split\n",
        "from sklearn.preprocessing import StandardScaler\n",
        "import pandas as pd\n",
        "import tensorflow as tf"
      ]
    },
    {
      "cell_type": "code",
      "source": [
        "# Import and read CSV file\n"
      ],
      "metadata": {
        "id": "OjbMRjX_PQ3a"
      },
      "execution_count": null,
      "outputs": []
    },
    {
      "cell_type": "code",
      "source": [
        "# Review Database"
      ],
      "metadata": {
        "id": "pyEyP57rREVT"
      },
      "execution_count": null,
      "outputs": []
    },
    {
      "cell_type": "code",
      "source": [
        "# Create Histogram"
      ],
      "metadata": {
        "id": "59WQDkUAT4qH"
      },
      "execution_count": null,
      "outputs": []
    },
    {
      "cell_type": "code",
      "source": [
        "# Separate the data into labels and features"
      ],
      "metadata": {
        "id": "ayywTweoPRIn"
      },
      "execution_count": null,
      "outputs": []
    },
    {
      "cell_type": "code",
      "source": [
        "# Split the data using train_test_split"
      ],
      "metadata": {
        "id": "J4uIRYp4PRN8"
      },
      "execution_count": null,
      "outputs": []
    },
    {
      "cell_type": "code",
      "source": [
        "# Create a StandardScaler\n",
        "# Fit StandardScaler\n",
        "# Scale the data"
      ],
      "metadata": {
        "id": "F_Y8t7ujSmD1"
      },
      "execution_count": null,
      "outputs": []
    },
    {
      "cell_type": "code",
      "source": [
        "# Train the model\n",
        "# Fit the model"
      ],
      "metadata": {
        "id": "XTY6qonzPRbk"
      },
      "execution_count": null,
      "outputs": []
    },
    {
      "cell_type": "code",
      "source": [
        "# Make a prediction"
      ],
      "metadata": {
        "id": "jtKN8qtSPRqR"
      },
      "execution_count": null,
      "outputs": []
    },
    {
      "cell_type": "code",
      "source": [
        "# Convert columns output to hourly (optional)"
      ],
      "metadata": {
        "id": "u8NgWhnsS4Tr"
      },
      "execution_count": null,
      "outputs": []
    }
  ]
}